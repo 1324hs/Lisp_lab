{
 "cells": [
  {
   "cell_type": "code",
   "id": "initial_id",
   "metadata": {
    "collapsed": true
   },
   "source": [
    "import numpy as np\n",
    "import pandas as pd\n",
    "from matplotlib.pyplot import subplots"
   ],
   "outputs": [],
   "execution_count": null
  },
  {
   "metadata": {},
   "cell_type": "code",
   "source": "import statsmodels.api as sm  #统计库",
   "id": "2be93ef3436f886d",
   "outputs": [],
   "execution_count": null
  },
  {
   "metadata": {},
   "cell_type": "code",
   "source": [
    "from statsmodels.stats.outliers_influence \\\n",
    "    import variance_inflation_factor as VIF\n",
    "from statsmodels.stats.anova import anova_lm"
   ],
   "id": "2d262af35f43ac3c",
   "outputs": [],
   "execution_count": null
  },
  {
   "metadata": {},
   "cell_type": "code",
   "source": [
    "from ISLP import load_data\n",
    "from ISLP.models import (ModelSpec as MS,\n",
    "                         summarize,\n",
    "                         poly)\n",
    "\n",
    "'''ISLP实验的包'''"
   ],
   "id": "95aa174f0f894d31",
   "outputs": [],
   "execution_count": null
  },
  {
   "metadata": {},
   "cell_type": "code",
   "source": "dir()",
   "id": "9c254b1811478ac6",
   "outputs": [],
   "execution_count": null
  },
  {
   "metadata": {},
   "cell_type": "code",
   "source": [
    "A = np.array([3, 11, 5])\n",
    "dir(A)"
   ],
   "id": "326d7873fc435149",
   "outputs": [],
   "execution_count": null
  },
  {
   "metadata": {},
   "cell_type": "code",
   "source": "A.sum()",
   "id": "561db0d58363a727",
   "outputs": [],
   "execution_count": null
  },
  {
   "metadata": {},
   "cell_type": "code",
   "source": [
    "Boston = load_data(\"Boston\")\n",
    "Boston.columns"
   ],
   "id": "754f7ba1879cf038",
   "outputs": [],
   "execution_count": null
  },
  {
   "metadata": {},
   "cell_type": "code",
   "source": [
    "X = pd.DataFrame({'intercept': np.ones(Boston.shape[0]),\n",
    "                  'lstat': Boston['lstat']})\n",
    "X[:4]"
   ],
   "id": "4e863d09f1d8305b",
   "outputs": [],
   "execution_count": null
  },
  {
   "metadata": {},
   "cell_type": "code",
   "source": [
    "y = Boston['medv']\n",
    "model = sm.OLS(y, X)\n",
    "results = model.fit()"
   ],
   "id": "58a6f742b2391b7b",
   "outputs": [],
   "execution_count": null
  },
  {
   "metadata": {},
   "cell_type": "code",
   "source": "summarize(results)",
   "id": "a61754bb66ec6cd5",
   "outputs": [],
   "execution_count": null
  },
  {
   "metadata": {},
   "cell_type": "code",
   "source": [
    "design = MS(['lstat'])\n",
    "design = design.fit(Boston)\n",
    "X = design.transform(Boston)\n",
    "X[:4]"
   ],
   "id": "c858b4982d955b55",
   "outputs": [],
   "execution_count": null
  },
  {
   "metadata": {},
   "cell_type": "code",
   "source": [
    "design = MS(['lstat'])\n",
    "X = design.fit_transform(Boston)\n",
    "X[:4]"
   ],
   "id": "4379f7db35e882e9",
   "outputs": [],
   "execution_count": null
  },
  {
   "metadata": {},
   "cell_type": "code",
   "source": "results.summary()",
   "id": "6b204585d7dcbf5a",
   "outputs": [],
   "execution_count": null
  },
  {
   "metadata": {},
   "cell_type": "code",
   "source": "results.params  #查找拟合数据",
   "id": "1dd0555c1aec0c47",
   "outputs": [],
   "execution_count": null
  },
  {
   "metadata": {},
   "cell_type": "code",
   "source": [
    "new_df = pd.DataFrame({'lstat': [5, 10, 15]})\n",
    "newX = design.transform(new_df)\n",
    "newX"
   ],
   "id": "a9eba9d08a74668f",
   "outputs": [],
   "execution_count": null
  },
  {
   "metadata": {},
   "cell_type": "code",
   "source": [
    "new_predictions = results.get_prediction(newX)\n",
    "new_predictions.predicted_mean"
   ],
   "id": "c9273c896ae39f8b",
   "outputs": [],
   "execution_count": null
  },
  {
   "metadata": {},
   "cell_type": "code",
   "source": "new_predictions.conf_int(obs=True, alpha=0.5)",
   "id": "1f2bff59f7665ccb",
   "outputs": [],
   "execution_count": null
  },
  {
   "metadata": {},
   "cell_type": "code",
   "source": [
    "def abline(ax, b, m, *args, **kwargs):\n",
    "    xlim = ax.get_xlim()\n",
    "    ylim = [m * xlim[0] + b, m * xlim[1] + b]\n",
    "    ax.plot(xlim, ylim, *args, **kwargs)"
   ],
   "id": "8504a8c3fdfb5564",
   "outputs": [],
   "execution_count": null
  },
  {
   "metadata": {},
   "cell_type": "code",
   "source": [
    "'''**kwargs 允许函数接受任意数量的关键字参数，这些参数会以字典的形式传入函数内部。'''\n",
    "'''*args 允许函数接受任意数量的位置参数，这些参数会以元组的形式传入函数内部。'''\n",
    "'''*args 和 **kwargs 都是python中的可变参数。'''"
   ],
   "id": "162d6839364ed495",
   "outputs": [],
   "execution_count": null
  },
  {
   "metadata": {},
   "cell_type": "code",
   "source": [
    "ax = Boston.plot.scatter('lstat', 'medv')\n",
    "abline(ax,\n",
    "       results.params.iloc[0],  #pandas新版用iloc索引\n",
    "       results.params.iloc[1],\n",
    "       'r--',  #红色 --线\n",
    "       linewidth=3)"
   ],
   "id": "a57ee25586fb7a17",
   "outputs": [],
   "execution_count": null
  },
  {
   "metadata": {},
   "cell_type": "code",
   "source": [
    "ax = subplots(figsize=(8, 8))[1]\n",
    "ax.scatter(results.fittedvalues, results.resid)\n",
    "ax.set_xlabel('Fitted value')\n",
    "ax.set_ylabel('Residual')\n",
    "ax.axhline(0, c='k', ls='--')  #添加一条黑色虚线"
   ],
   "id": "10cdf0b14e2f0bad",
   "outputs": [],
   "execution_count": null
  },
  {
   "metadata": {},
   "cell_type": "code",
   "source": [
    "infl = results.get_influence()\n",
    "ax = subplots(figsize=(8, 8))[1]\n",
    "ax.scatter(np.arange(X.shape[0]), infl.hat_matrix_diag)  #杠杆统计 算帽子矩阵对角 得出杠杆点\n",
    "ax.set_xlabel('Index')\n",
    "ax.set_ylabel('Leverage')\n",
    "np.argmax(infl.hat_matrix_diag)"
   ],
   "id": "76927d3e8dd42073",
   "outputs": [],
   "execution_count": null
  },
  {
   "metadata": {},
   "cell_type": "code",
   "source": [
    "X = MS(['lstat', 'age']).fit_transform(Boston)\n",
    "model1 = sm.OLS(y, X)\n",
    "results1 = model1.fit()\n",
    "summarize(results1)"
   ],
   "id": "9d1e2f4434ca161a",
   "outputs": [],
   "execution_count": null
  },
  {
   "metadata": {},
   "cell_type": "code",
   "source": [
    "terms = Boston.columns.drop('medv')\n",
    "terms"
   ],
   "id": "f9ae54ed008082a5",
   "outputs": [],
   "execution_count": null
  },
  {
   "metadata": {},
   "cell_type": "code",
   "source": [
    "X = MS(terms).fit_transform(Boston)\n",
    "model = sm.OLS(y, X)\n",
    "results = model.fit()\n",
    "summarize(results)"
   ],
   "id": "3c92c2783dc3a98d",
   "outputs": [],
   "execution_count": null
  },
  {
   "metadata": {},
   "cell_type": "code",
   "source": [
    "minus_age = Boston.columns.drop('medv', 'age')\n",
    "Xma = MS(minus_age).fit_transform(Boston)\n",
    "summarize(sm.OLS(y, Xma).fit())"
   ],
   "id": "537b3837e3a0503",
   "outputs": [],
   "execution_count": null
  },
  {
   "metadata": {
    "ExecuteTime": {
     "end_time": "2024-11-20T15:01:25.292633Z",
     "start_time": "2024-11-20T15:01:25.279262Z"
    }
   },
   "cell_type": "code",
   "source": [
    "vals = [VIF(X, i)\n",
    "        for i in range(1, X.shape[1])]  #列表推导式\n",
    "vif = pd.DataFrame({'vif': vals},\n",
    "                   index=X.columns[1:])\n",
    "vif"
   ],
   "id": "42f6eebcc6f45c01",
   "outputs": [
    {
     "data": {
      "text/plain": [
       "              vif\n",
       "crim     1.767486\n",
       "zn       2.298459\n",
       "indus    3.987181\n",
       "chas     1.071168\n",
       "nox      4.369093\n",
       "rm       1.912532\n",
       "age      3.088232\n",
       "dis      3.954037\n",
       "rad      7.445301\n",
       "tax      9.002158\n",
       "ptratio  1.797060\n",
       "lstat    2.870777"
      ],
      "text/html": [
       "<div>\n",
       "<style scoped>\n",
       "    .dataframe tbody tr th:only-of-type {\n",
       "        vertical-align: middle;\n",
       "    }\n",
       "\n",
       "    .dataframe tbody tr th {\n",
       "        vertical-align: top;\n",
       "    }\n",
       "\n",
       "    .dataframe thead th {\n",
       "        text-align: right;\n",
       "    }\n",
       "</style>\n",
       "<table border=\"1\" class=\"dataframe\">\n",
       "  <thead>\n",
       "    <tr style=\"text-align: right;\">\n",
       "      <th></th>\n",
       "      <th>vif</th>\n",
       "    </tr>\n",
       "  </thead>\n",
       "  <tbody>\n",
       "    <tr>\n",
       "      <th>crim</th>\n",
       "      <td>1.767486</td>\n",
       "    </tr>\n",
       "    <tr>\n",
       "      <th>zn</th>\n",
       "      <td>2.298459</td>\n",
       "    </tr>\n",
       "    <tr>\n",
       "      <th>indus</th>\n",
       "      <td>3.987181</td>\n",
       "    </tr>\n",
       "    <tr>\n",
       "      <th>chas</th>\n",
       "      <td>1.071168</td>\n",
       "    </tr>\n",
       "    <tr>\n",
       "      <th>nox</th>\n",
       "      <td>4.369093</td>\n",
       "    </tr>\n",
       "    <tr>\n",
       "      <th>rm</th>\n",
       "      <td>1.912532</td>\n",
       "    </tr>\n",
       "    <tr>\n",
       "      <th>age</th>\n",
       "      <td>3.088232</td>\n",
       "    </tr>\n",
       "    <tr>\n",
       "      <th>dis</th>\n",
       "      <td>3.954037</td>\n",
       "    </tr>\n",
       "    <tr>\n",
       "      <th>rad</th>\n",
       "      <td>7.445301</td>\n",
       "    </tr>\n",
       "    <tr>\n",
       "      <th>tax</th>\n",
       "      <td>9.002158</td>\n",
       "    </tr>\n",
       "    <tr>\n",
       "      <th>ptratio</th>\n",
       "      <td>1.797060</td>\n",
       "    </tr>\n",
       "    <tr>\n",
       "      <th>lstat</th>\n",
       "      <td>2.870777</td>\n",
       "    </tr>\n",
       "  </tbody>\n",
       "</table>\n",
       "</div>"
      ]
     },
     "execution_count": 124,
     "metadata": {},
     "output_type": "execute_result"
    }
   ],
   "execution_count": 124
  },
  {
   "metadata": {},
   "cell_type": "code",
   "outputs": [],
   "execution_count": null,
   "source": [
    "vals = []\n",
    "for i in range(1, X.shape[1]):\n",
    "    vals.append(VIF(X, i))"
   ],
   "id": "538514c50da9c250"
  },
  {
   "metadata": {
    "ExecuteTime": {
     "end_time": "2024-11-20T16:12:54.887821Z",
     "start_time": "2024-11-20T16:12:54.842564Z"
    }
   },
   "cell_type": "code",
   "source": [
    "X = MS(['lstat',\n",
    "        'age',\n",
    "        ('lstat', 'age')]).fit_transform(Boston)\n",
    "model2 = sm.OLS(y, X)\n",
    "summarize(model2.fit())"
   ],
   "id": "e16e34e5ae7988b1",
   "outputs": [
    {
     "data": {
      "text/plain": [
       "              coef  std err       t  P>|t|\n",
       "intercept  36.0885    1.470  24.553  0.000\n",
       "lstat      -1.3921    0.167  -8.313  0.000\n",
       "age        -0.0007    0.020  -0.036  0.971\n",
       "lstat:age   0.0042    0.002   2.244  0.025"
      ],
      "text/html": [
       "<div>\n",
       "<style scoped>\n",
       "    .dataframe tbody tr th:only-of-type {\n",
       "        vertical-align: middle;\n",
       "    }\n",
       "\n",
       "    .dataframe tbody tr th {\n",
       "        vertical-align: top;\n",
       "    }\n",
       "\n",
       "    .dataframe thead th {\n",
       "        text-align: right;\n",
       "    }\n",
       "</style>\n",
       "<table border=\"1\" class=\"dataframe\">\n",
       "  <thead>\n",
       "    <tr style=\"text-align: right;\">\n",
       "      <th></th>\n",
       "      <th>coef</th>\n",
       "      <th>std err</th>\n",
       "      <th>t</th>\n",
       "      <th>P&gt;|t|</th>\n",
       "    </tr>\n",
       "  </thead>\n",
       "  <tbody>\n",
       "    <tr>\n",
       "      <th>intercept</th>\n",
       "      <td>36.0885</td>\n",
       "      <td>1.470</td>\n",
       "      <td>24.553</td>\n",
       "      <td>0.000</td>\n",
       "    </tr>\n",
       "    <tr>\n",
       "      <th>lstat</th>\n",
       "      <td>-1.3921</td>\n",
       "      <td>0.167</td>\n",
       "      <td>-8.313</td>\n",
       "      <td>0.000</td>\n",
       "    </tr>\n",
       "    <tr>\n",
       "      <th>age</th>\n",
       "      <td>-0.0007</td>\n",
       "      <td>0.020</td>\n",
       "      <td>-0.036</td>\n",
       "      <td>0.971</td>\n",
       "    </tr>\n",
       "    <tr>\n",
       "      <th>lstat:age</th>\n",
       "      <td>0.0042</td>\n",
       "      <td>0.002</td>\n",
       "      <td>2.244</td>\n",
       "      <td>0.025</td>\n",
       "    </tr>\n",
       "  </tbody>\n",
       "</table>\n",
       "</div>"
      ]
     },
     "execution_count": 126,
     "metadata": {},
     "output_type": "execute_result"
    }
   ],
   "execution_count": 126
  },
  {
   "metadata": {
    "ExecuteTime": {
     "end_time": "2024-11-20T16:18:44.328735Z",
     "start_time": "2024-11-20T16:18:44.303264Z"
    }
   },
   "cell_type": "code",
   "source": [
    "X = MS([poly('lstat', degree=2),  #添加多项式\n",
    "        'age']).fit_transform(Boston)\n",
    "models3 = sm.OLS(y, X)\n",
    "results3 = models3.fit()\n",
    "summarize(results3)"
   ],
   "id": "417b48e9aa6226ab",
   "outputs": [
    {
     "data": {
      "text/plain": [
       "                              coef  std err       t  P>|t|\n",
       "intercept                  17.7151    0.781  22.681    0.0\n",
       "poly(lstat, degree=2)[0] -179.2279    6.733 -26.620    0.0\n",
       "poly(lstat, degree=2)[1]   72.9908    5.482  13.315    0.0\n",
       "age                         0.0703    0.011   6.471    0.0"
      ],
      "text/html": [
       "<div>\n",
       "<style scoped>\n",
       "    .dataframe tbody tr th:only-of-type {\n",
       "        vertical-align: middle;\n",
       "    }\n",
       "\n",
       "    .dataframe tbody tr th {\n",
       "        vertical-align: top;\n",
       "    }\n",
       "\n",
       "    .dataframe thead th {\n",
       "        text-align: right;\n",
       "    }\n",
       "</style>\n",
       "<table border=\"1\" class=\"dataframe\">\n",
       "  <thead>\n",
       "    <tr style=\"text-align: right;\">\n",
       "      <th></th>\n",
       "      <th>coef</th>\n",
       "      <th>std err</th>\n",
       "      <th>t</th>\n",
       "      <th>P&gt;|t|</th>\n",
       "    </tr>\n",
       "  </thead>\n",
       "  <tbody>\n",
       "    <tr>\n",
       "      <th>intercept</th>\n",
       "      <td>17.7151</td>\n",
       "      <td>0.781</td>\n",
       "      <td>22.681</td>\n",
       "      <td>0.0</td>\n",
       "    </tr>\n",
       "    <tr>\n",
       "      <th>poly(lstat, degree=2)[0]</th>\n",
       "      <td>-179.2279</td>\n",
       "      <td>6.733</td>\n",
       "      <td>-26.620</td>\n",
       "      <td>0.0</td>\n",
       "    </tr>\n",
       "    <tr>\n",
       "      <th>poly(lstat, degree=2)[1]</th>\n",
       "      <td>72.9908</td>\n",
       "      <td>5.482</td>\n",
       "      <td>13.315</td>\n",
       "      <td>0.0</td>\n",
       "    </tr>\n",
       "    <tr>\n",
       "      <th>age</th>\n",
       "      <td>0.0703</td>\n",
       "      <td>0.011</td>\n",
       "      <td>6.471</td>\n",
       "      <td>0.0</td>\n",
       "    </tr>\n",
       "  </tbody>\n",
       "</table>\n",
       "</div>"
      ]
     },
     "execution_count": 127,
     "metadata": {},
     "output_type": "execute_result"
    }
   ],
   "execution_count": 127
  },
  {
   "metadata": {
    "ExecuteTime": {
     "end_time": "2024-11-20T16:21:05.055383Z",
     "start_time": "2024-11-20T16:21:05.046370Z"
    }
   },
   "cell_type": "code",
   "source": "anova_lm(results1, results3)  #方差分析",
   "id": "46d136413e33656",
   "outputs": [
    {
     "data": {
      "text/plain": [
       "   df_resid           ssr  df_diff      ss_diff           F        Pr(>F)\n",
       "0     503.0  19168.128609      0.0          NaN         NaN           NaN\n",
       "1     502.0  14165.613251      1.0  5002.515357  177.278785  7.468491e-35"
      ],
      "text/html": [
       "<div>\n",
       "<style scoped>\n",
       "    .dataframe tbody tr th:only-of-type {\n",
       "        vertical-align: middle;\n",
       "    }\n",
       "\n",
       "    .dataframe tbody tr th {\n",
       "        vertical-align: top;\n",
       "    }\n",
       "\n",
       "    .dataframe thead th {\n",
       "        text-align: right;\n",
       "    }\n",
       "</style>\n",
       "<table border=\"1\" class=\"dataframe\">\n",
       "  <thead>\n",
       "    <tr style=\"text-align: right;\">\n",
       "      <th></th>\n",
       "      <th>df_resid</th>\n",
       "      <th>ssr</th>\n",
       "      <th>df_diff</th>\n",
       "      <th>ss_diff</th>\n",
       "      <th>F</th>\n",
       "      <th>Pr(&gt;F)</th>\n",
       "    </tr>\n",
       "  </thead>\n",
       "  <tbody>\n",
       "    <tr>\n",
       "      <th>0</th>\n",
       "      <td>503.0</td>\n",
       "      <td>19168.128609</td>\n",
       "      <td>0.0</td>\n",
       "      <td>NaN</td>\n",
       "      <td>NaN</td>\n",
       "      <td>NaN</td>\n",
       "    </tr>\n",
       "    <tr>\n",
       "      <th>1</th>\n",
       "      <td>502.0</td>\n",
       "      <td>14165.613251</td>\n",
       "      <td>1.0</td>\n",
       "      <td>5002.515357</td>\n",
       "      <td>177.278785</td>\n",
       "      <td>7.468491e-35</td>\n",
       "    </tr>\n",
       "  </tbody>\n",
       "</table>\n",
       "</div>"
      ]
     },
     "execution_count": 128,
     "metadata": {},
     "output_type": "execute_result"
    }
   ],
   "execution_count": 128
  },
  {
   "metadata": {
    "ExecuteTime": {
     "end_time": "2024-11-20T16:25:42.177558Z",
     "start_time": "2024-11-20T16:25:42.101388Z"
    }
   },
   "cell_type": "code",
   "source": [
    "ax = subplots(figsize=(8, 8))[1]\n",
    "ax.scatter(results.fittedvalues, results.resid)\n",
    "ax.set_xlabel('Fitted values')\n",
    "ax.set_ylabel('Residual')\n",
    "ax.axhline(0, c='k', ls='--')"
   ],
   "id": "5ee64d5ba3ba00e2",
   "outputs": [
    {
     "data": {
      "text/plain": [
       "<matplotlib.lines.Line2D at 0x1db719f21b0>"
      ]
     },
     "execution_count": 129,
     "metadata": {},
     "output_type": "execute_result"
    },
    {
     "data": {
      "text/plain": [
       "<Figure size 800x800 with 1 Axes>"
      ],
      "image/png": "[encoded data removed]"
     },
     "metadata": {},
     "output_type": "display_data"
    }
   ],
   "execution_count": 129
  },
  {
   "metadata": {
    "ExecuteTime": {
     "end_time": "2024-11-20T16:33:46.762178Z",
     "start_time": "2024-11-20T16:33:46.752850Z"
    }
   },
   "cell_type": "code",
   "source": [
    "Carseats = load_data('Carseats')\n",
    "Carseats.columns"
   ],
   "id": "b16ea86bfcd0c842",
   "outputs": [
    {
     "data": {
      "text/plain": [
       "Index(['Sales', 'CompPrice', 'Income', 'Advertising', 'Population', 'Price',\n",
       "       'ShelveLoc', 'Age', 'Education', 'Urban', 'US'],\n",
       "      dtype='object')"
      ]
     },
     "execution_count": 130,
     "metadata": {},
     "output_type": "execute_result"
    }
   ],
   "execution_count": 130
  },
  {
   "metadata": {
    "ExecuteTime": {
     "end_time": "2024-11-20T16:53:42.825737Z",
     "start_time": "2024-11-20T16:53:42.793311Z"
    }
   },
   "cell_type": "code",
   "source": [
    "allvars = list(Carseats.columns.drop('Sales'))\n",
    "y = Carseats['Sales']\n",
    "final = allvars + [('Income', 'Advertising'),\n",
    "                   ('Price', 'Age')]\n",
    "X = MS(final).fit_transform(Carseats)\n",
    "model = sm.OLS(y, X)\n",
    "summarize(model.fit())"
   ],
   "id": "c143235f7cd2f172",
   "outputs": [
    {
     "data": {
      "text/plain": [
       "                      coef  std err       t  P>|t|\n",
       "intercept           6.5756    1.009   6.519  0.000\n",
       "CompPrice           0.0929    0.004  22.567  0.000\n",
       "Income              0.0109    0.003   4.183  0.000\n",
       "Advertising         0.0702    0.023   3.107  0.002\n",
       "Population          0.0002    0.000   0.433  0.665\n",
       "Price              -0.1008    0.007 -13.549  0.000\n",
       "ShelveLoc[Good]     4.8487    0.153  31.724  0.000\n",
       "ShelveLoc[Medium]   1.9533    0.126  15.531  0.000\n",
       "Age                -0.0579    0.016  -3.633  0.000\n",
       "Education          -0.0209    0.020  -1.063  0.288\n",
       "Urban[Yes]          0.1402    0.112   1.247  0.213\n",
       "US[Yes]            -0.1576    0.149  -1.058  0.291\n",
       "Income:Advertising  0.0008    0.000   2.698  0.007\n",
       "Price:Age           0.0001    0.000   0.801  0.424"
      ],
      "text/html": [
       "<div>\n",
       "<style scoped>\n",
       "    .dataframe tbody tr th:only-of-type {\n",
       "        vertical-align: middle;\n",
       "    }\n",
       "\n",
       "    .dataframe tbody tr th {\n",
       "        vertical-align: top;\n",
       "    }\n",
       "\n",
       "    .dataframe thead th {\n",
       "        text-align: right;\n",
       "    }\n",
       "</style>\n",
       "<table border=\"1\" class=\"dataframe\">\n",
       "  <thead>\n",
       "    <tr style=\"text-align: right;\">\n",
       "      <th></th>\n",
       "      <th>coef</th>\n",
       "      <th>std err</th>\n",
       "      <th>t</th>\n",
       "      <th>P&gt;|t|</th>\n",
       "    </tr>\n",
       "  </thead>\n",
       "  <tbody>\n",
       "    <tr>\n",
       "      <th>intercept</th>\n",
       "      <td>6.5756</td>\n",
       "      <td>1.009</td>\n",
       "      <td>6.519</td>\n",
       "      <td>0.000</td>\n",
       "    </tr>\n",
       "    <tr>\n",
       "      <th>CompPrice</th>\n",
       "      <td>0.0929</td>\n",
       "      <td>0.004</td>\n",
       "      <td>22.567</td>\n",
       "      <td>0.000</td>\n",
       "    </tr>\n",
       "    <tr>\n",
       "      <th>Income</th>\n",
       "      <td>0.0109</td>\n",
       "      <td>0.003</td>\n",
       "      <td>4.183</td>\n",
       "      <td>0.000</td>\n",
       "    </tr>\n",
       "    <tr>\n",
       "      <th>Advertising</th>\n",
       "      <td>0.0702</td>\n",
       "      <td>0.023</td>\n",
       "      <td>3.107</td>\n",
       "      <td>0.002</td>\n",
       "    </tr>\n",
       "    <tr>\n",
       "      <th>Population</th>\n",
       "      <td>0.0002</td>\n",
       "      <td>0.000</td>\n",
       "      <td>0.433</td>\n",
       "      <td>0.665</td>\n",
       "    </tr>\n",
       "    <tr>\n",
       "      <th>Price</th>\n",
       "      <td>-0.1008</td>\n",
       "      <td>0.007</td>\n",
       "      <td>-13.549</td>\n",
       "      <td>0.000</td>\n",
       "    </tr>\n",
       "    <tr>\n",
       "      <th>ShelveLoc[Good]</th>\n",
       "      <td>4.8487</td>\n",
       "      <td>0.153</td>\n",
       "      <td>31.724</td>\n",
       "      <td>0.000</td>\n",
       "    </tr>\n",
       "    <tr>\n",
       "      <th>ShelveLoc[Medium]</th>\n",
       "      <td>1.9533</td>\n",
       "      <td>0.126</td>\n",
       "      <td>15.531</td>\n",
       "      <td>0.000</td>\n",
       "    </tr>\n",
       "    <tr>\n",
       "      <th>Age</th>\n",
       "      <td>-0.0579</td>\n",
       "      <td>0.016</td>\n",
       "      <td>-3.633</td>\n",
       "      <td>0.000</td>\n",
       "    </tr>\n",
       "    <tr>\n",
       "      <th>Education</th>\n",
       "      <td>-0.0209</td>\n",
       "      <td>0.020</td>\n",
       "      <td>-1.063</td>\n",
       "      <td>0.288</td>\n",
       "    </tr>\n",
       "    <tr>\n",
       "      <th>Urban[Yes]</th>\n",
       "      <td>0.1402</td>\n",
       "      <td>0.112</td>\n",
       "      <td>1.247</td>\n",
       "      <td>0.213</td>\n",
       "    </tr>\n",
       "    <tr>\n",
       "      <th>US[Yes]</th>\n",
       "      <td>-0.1576</td>\n",
       "      <td>0.149</td>\n",
       "      <td>-1.058</td>\n",
       "      <td>0.291</td>\n",
       "    </tr>\n",
       "    <tr>\n",
       "      <th>Income:Advertising</th>\n",
       "      <td>0.0008</td>\n",
       "      <td>0.000</td>\n",
       "      <td>2.698</td>\n",
       "      <td>0.007</td>\n",
       "    </tr>\n",
       "    <tr>\n",
       "      <th>Price:Age</th>\n",
       "      <td>0.0001</td>\n",
       "      <td>0.000</td>\n",
       "      <td>0.801</td>\n",
       "      <td>0.424</td>\n",
       "    </tr>\n",
       "  </tbody>\n",
       "</table>\n",
       "</div>"
      ]
     },
     "execution_count": 133,
     "metadata": {},
     "output_type": "execute_result"
    }
   ],
   "execution_count": 133
  },
  {
   "metadata": {},
   "cell_type": "code",
   "outputs": [],
   "execution_count": null,
   "source": "",
   "id": "e4ee6893b1e91017"
  }
 ],
 "metadata": {
  "kernelspec": {
   "display_name": "Python 3",
   "language": "python",
   "name": "python3"
  },
  "language_info": {
   "codemirror_mode": {
    "name": "ipython",
    "version": 2
   },
   "file_extension": ".py",
   "mimetype": "text/x-python",
   "name": "python",
   "nbconvert_exporter": "python",
   "pygments_lexer": "ipython2",
   "version": "2.7.6"
  }
 },
 "nbformat": 4,
 "nbformat_minor": 5
}
