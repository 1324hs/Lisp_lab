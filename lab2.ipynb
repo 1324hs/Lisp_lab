{
 "cells": [
  {
   "cell_type": "code",
   "id": "initial_id",
   "metadata": {
    "collapsed": true
   },
   "source": [
    "import numpy as np\n",
    "import pandas as pd\n",
    "from matplotlib.pyplot import subplots"
   ],
   "outputs": [],
   "execution_count": null
  },
  {
   "metadata": {},
   "cell_type": "code",
   "source": "import statsmodels.api as sm  #统计库",
   "id": "2be93ef3436f886d",
   "outputs": [],
   "execution_count": null
  },
  {
   "metadata": {},
   "cell_type": "code",
   "source": [
    "from statsmodels.stats.outliers_influence \\\n",
    "    import variance_inflation_factor as VIF\n",
    "from statsmodels.stats.anova import anova_lm"
   ],
   "id": "2d262af35f43ac3c",
   "outputs": [],
   "execution_count": null
  },
  {
   "metadata": {},
   "cell_type": "code",
   "source": [
    "from ISLP import load_data\n",
    "from ISLP.models import (ModelSpec as MS,\n",
    "                         summarize,\n",
    "                         poly)\n",
    "\n",
    "'''ISLP实验的包'''"
   ],
   "id": "95aa174f0f894d31",
   "outputs": [],
   "execution_count": null
  },
  {
   "metadata": {},
   "cell_type": "code",
   "source": "dir()",
   "id": "9c254b1811478ac6",
   "outputs": [],
   "execution_count": null
  },
  {
   "metadata": {},
   "cell_type": "code",
   "source": [
    "A = np.array([3, 11, 5])\n",
    "dir(A)"
   ],
   "id": "326d7873fc435149",
   "outputs": [],
   "execution_count": null
  },
  {
   "metadata": {},
   "cell_type": "code",
   "source": "A.sum()",
   "id": "561db0d58363a727",
   "outputs": [],
   "execution_count": null
  },
  {
   "metadata": {},
   "cell_type": "code",
   "source": [
    "Boston = load_data(\"Boston\")\n",
    "Boston.columns"
   ],
   "id": "754f7ba1879cf038",
   "outputs": [],
   "execution_count": null
  },
  {
   "metadata": {},
   "cell_type": "code",
   "source": [
    "X = pd.DataFrame({'intercept': np.ones(Boston.shape[0]),\n",
    "                  'lstat': Boston['lstat']})\n",
    "X[:4]"
   ],
   "id": "4e863d09f1d8305b",
   "outputs": [],
   "execution_count": null
  },
  {
   "metadata": {},
   "cell_type": "code",
   "source": [
    "y = Boston['medv']\n",
    "model = sm.OLS(y, X)\n",
    "results = model.fit()"
   ],
   "id": "58a6f742b2391b7b",
   "outputs": [],
   "execution_count": null
  },
  {
   "metadata": {},
   "cell_type": "code",
   "source": "summarize(results)",
   "id": "a61754bb66ec6cd5",
   "outputs": [],
   "execution_count": null
  },
  {
   "metadata": {},
   "cell_type": "code",
   "source": [
    "design = MS(['lstat'])\n",
    "design = design.fit(Boston)\n",
    "X = design.transform(Boston)\n",
    "X[:4]"
   ],
   "id": "c858b4982d955b55",
   "outputs": [],
   "execution_count": null
  },
  {
   "metadata": {},
   "cell_type": "code",
   "source": [
    "design = MS(['lstat'])\n",
    "X = design.fit_transform(Boston)\n",
    "X[:4]"
   ],
   "id": "4379f7db35e882e9",
   "outputs": [],
   "execution_count": null
  },
  {
   "metadata": {},
   "cell_type": "code",
   "source": "results.summary()",
   "id": "6b204585d7dcbf5a",
   "outputs": [],
   "execution_count": null
  },
  {
   "metadata": {},
   "cell_type": "code",
   "source": "results.params  #查找拟合数据",
   "id": "1dd0555c1aec0c47",
   "outputs": [],
   "execution_count": null
  },
  {
   "metadata": {},
   "cell_type": "code",
   "source": [
    "new_df = pd.DataFrame({'lstat': [5, 10, 15]})\n",
    "newX = design.transform(new_df)\n",
    "newX"
   ],
   "id": "a9eba9d08a74668f",
   "outputs": [],
   "execution_count": null
  },
  {
   "metadata": {},
   "cell_type": "code",
   "source": [
    "new_predictions = results.get_prediction(newX)\n",
    "new_predictions.predicted_mean"
   ],
   "id": "c9273c896ae39f8b",
   "outputs": [],
   "execution_count": null
  },
  {
   "metadata": {},
   "cell_type": "code",
   "source": "new_predictions.conf_int(obs=True, alpha=0.5)",
   "id": "1f2bff59f7665ccb",
   "outputs": [],
   "execution_count": null
  },
  {
   "metadata": {},
   "cell_type": "code",
   "source": [
    "def abline(ax, b, m, *args, **kwargs):\n",
    "    xlim = ax.get_xlim()\n",
    "    ylim = [m * xlim[0] + b, m * xlim[1] + b]\n",
    "    ax.plot(xlim, ylim, *args, **kwargs)"
   ],
   "id": "8504a8c3fdfb5564",
   "outputs": [],
   "execution_count": null
  },
  {
   "metadata": {},
   "cell_type": "code",
   "source": [
    "'''**kwargs 允许函数接受任意数量的关键字参数，这些参数会以字典的形式传入函数内部。'''\n",
    "'''*args 允许函数接受任意数量的位置参数，这些参数会以元组的形式传入函数内部。'''\n",
    "'''*args 和 **kwargs 都是python中的可变参数。'''"
   ],
   "id": "162d6839364ed495",
   "outputs": [],
   "execution_count": null
  },
  {
   "metadata": {},
   "cell_type": "code",
   "source": [
    "ax = Boston.plot.scatter('lstat', 'medv')\n",
    "abline(ax,\n",
    "       results.params.iloc[0],  #pandas新版用iloc索引\n",
    "       results.params.iloc[1],\n",
    "       'r--',  #红色 --线\n",
    "       linewidth=3)"
   ],
   "id": "a57ee25586fb7a17",
   "outputs": [],
   "execution_count": null
  },
  {
   "metadata": {},
   "cell_type": "code",
   "source": [
    "ax = subplots(figsize=(8, 8))[1]\n",
    "ax.scatter(results.fittedvalues, results.resid)\n",
    "ax.set_xlabel('Fitted value')\n",
    "ax.set_ylabel('Residual')\n",
    "ax.axhline(0, c='k', ls='--')  #添加一条黑色虚线"
   ],
   "id": "10cdf0b14e2f0bad",
   "outputs": [],
   "execution_count": null
  },
  {
   "metadata": {},
   "cell_type": "code",
   "source": [
    "infl=results.get_influence()\n",
    "ax=subplots(figsize=(8,8))[1]\n",
    "ax.scatter(np.arange(X.shape[0]),infl.hat_matrix_diag)  #杠杆统计 算帽子矩阵对角 得出杠杆点\n",
    "ax.set_xlabel('Index')\n",
    "ax.set_ylabel('Leverage')\n",
    "np.argmax(infl.hat_matrix_diag)"
   ],
   "id": "76927d3e8dd42073",
   "outputs": [],
   "execution_count": null
  },
  {
   "metadata": {},
   "cell_type": "code",
   "source": [
    "X=MS(['lstat','age']).fit_transform(Boston)\n",
    "model1=sm.OLS(y,X)\n",
    "results1=model1.fit()\n",
    "summarize(results1)"
   ],
   "id": "9d1e2f4434ca161a",
   "outputs": [],
   "execution_count": null
  },
  {
   "metadata": {},
   "cell_type": "code",
   "source": [
    "terms=Boston.columns.drop('medv')\n",
    "terms"
   ],
   "id": "f9ae54ed008082a5",
   "outputs": [],
   "execution_count": null
  },
  {
   "metadata": {},
   "cell_type": "code",
   "source": [
    "X=MS(terms).fit_transform(Boston)\n",
    "model=sm.OLS(y,X)\n",
    "results=model.fit()\n",
    "summarize(results)"
   ],
   "id": "3c92c2783dc3a98d",
   "outputs": [],
   "execution_count": null
  },
  {
   "metadata": {},
   "cell_type": "code",
   "source": [
    "minus_age=Boston.columns.drop('medv','age')\n",
    "Xma=MS(minus_age).fit_transform(Boston)\n",
    "summarize(sm.OLS(y,Xma).fit())"
   ],
   "id": "537b3837e3a0503",
   "outputs": [],
   "execution_count": null
  },
  {
   "metadata": {
    "ExecuteTime": {
     "end_time": "2024-11-20T15:01:25.292633Z",
     "start_time": "2024-11-20T15:01:25.279262Z"
    }
   },
   "cell_type": "code",
   "source": [
    "vals=[VIF(X,i)\n",
    "      for i in range(1,X.shape[1])]\n",
    "vif=pd.DataFrame({'vif':vals},\n",
    "                 index=X.columns[1:])\n",
    "vif"
   ],
   "id": "42f6eebcc6f45c01",
   "outputs": [
    {
     "data": {
      "text/plain": [
       "              vif\n",
       "crim     1.767486\n",
       "zn       2.298459\n",
       "indus    3.987181\n",
       "chas     1.071168\n",
       "nox      4.369093\n",
       "rm       1.912532\n",
       "age      3.088232\n",
       "dis      3.954037\n",
       "rad      7.445301\n",
       "tax      9.002158\n",
       "ptratio  1.797060\n",
       "lstat    2.870777"
      ],
      "text/html": [
       "<div>\n",
       "<style scoped>\n",
       "    .dataframe tbody tr th:only-of-type {\n",
       "        vertical-align: middle;\n",
       "    }\n",
       "\n",
       "    .dataframe tbody tr th {\n",
       "        vertical-align: top;\n",
       "    }\n",
       "\n",
       "    .dataframe thead th {\n",
       "        text-align: right;\n",
       "    }\n",
       "</style>\n",
       "<table border=\"1\" class=\"dataframe\">\n",
       "  <thead>\n",
       "    <tr style=\"text-align: right;\">\n",
       "      <th></th>\n",
       "      <th>vif</th>\n",
       "    </tr>\n",
       "  </thead>\n",
       "  <tbody>\n",
       "    <tr>\n",
       "      <th>crim</th>\n",
       "      <td>1.767486</td>\n",
       "    </tr>\n",
       "    <tr>\n",
       "      <th>zn</th>\n",
       "      <td>2.298459</td>\n",
       "    </tr>\n",
       "    <tr>\n",
       "      <th>indus</th>\n",
       "      <td>3.987181</td>\n",
       "    </tr>\n",
       "    <tr>\n",
       "      <th>chas</th>\n",
       "      <td>1.071168</td>\n",
       "    </tr>\n",
       "    <tr>\n",
       "      <th>nox</th>\n",
       "      <td>4.369093</td>\n",
       "    </tr>\n",
       "    <tr>\n",
       "      <th>rm</th>\n",
       "      <td>1.912532</td>\n",
       "    </tr>\n",
       "    <tr>\n",
       "      <th>age</th>\n",
       "      <td>3.088232</td>\n",
       "    </tr>\n",
       "    <tr>\n",
       "      <th>dis</th>\n",
       "      <td>3.954037</td>\n",
       "    </tr>\n",
       "    <tr>\n",
       "      <th>rad</th>\n",
       "      <td>7.445301</td>\n",
       "    </tr>\n",
       "    <tr>\n",
       "      <th>tax</th>\n",
       "      <td>9.002158</td>\n",
       "    </tr>\n",
       "    <tr>\n",
       "      <th>ptratio</th>\n",
       "      <td>1.797060</td>\n",
       "    </tr>\n",
       "    <tr>\n",
       "      <th>lstat</th>\n",
       "      <td>2.870777</td>\n",
       "    </tr>\n",
       "  </tbody>\n",
       "</table>\n",
       "</div>"
      ]
     },
     "execution_count": 124,
     "metadata": {},
     "output_type": "execute_result"
    }
   ],
   "execution_count": 124
  },
  {
   "metadata": {},
   "cell_type": "code",
   "outputs": [],
   "execution_count": null,
   "source": "",
   "id": "538514c50da9c250"
  }
 ],
 "metadata": {
  "kernelspec": {
   "display_name": "Python 3",
   "language": "python",
   "name": "python3"
  },
  "language_info": {
   "codemirror_mode": {
    "name": "ipython",
    "version": 2
   },
   "file_extension": ".py",
   "mimetype": "text/x-python",
   "name": "python",
   "nbconvert_exporter": "python",
   "pygments_lexer": "ipython2",
   "version": "2.7.6"
  }
 },
 "nbformat": 4,
 "nbformat_minor": 5
}
