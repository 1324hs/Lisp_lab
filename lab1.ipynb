{
 "cells": [
  {
   "metadata": {},
   "cell_type": "code",
   "source": "'''numpy库'''",
   "id": "e87486a030ff740e",
   "outputs": [],
   "execution_count": null
  },
  {
   "metadata": {},
   "cell_type": "code",
   "source": "import numpy as np",
   "id": "95beffdbcddc11a2",
   "outputs": [],
   "execution_count": null
  },
  {
   "metadata": {},
   "cell_type": "code",
   "source": [
    "'''x=np.array([3,4,5])\n",
    "y=np.array([4,9,7])'''"
   ],
   "id": "ee04811d69c4b0c9",
   "outputs": [],
   "execution_count": null
  },
  {
   "metadata": {},
   "cell_type": "code",
   "source": [
    "a=np.array([[1,2,3,4,5,6]])\n",
    "print(a)\n",
    "a_reshape=a.reshape((2,3))\n",
    "print(a_reshape)\n",
    "a_reshape[1,0]"
   ],
   "id": "21e97ac4f2ddfffc",
   "outputs": [],
   "execution_count": null
  },
  {
   "metadata": {},
   "cell_type": "code",
   "source": "a_reshape.ndim    #维数",
   "id": "c8fff13aeb683651",
   "outputs": [],
   "execution_count": null
  },
  {
   "metadata": {},
   "cell_type": "code",
   "source": "a.dtype      #类型",
   "id": "8ac1721c0e1490a",
   "outputs": [],
   "execution_count": null
  },
  {
   "metadata": {},
   "cell_type": "code",
   "source": [
    "b=np.random.normal(loc=20,scale=1,size=50)\n",
    "a=np.random.normal(size=50)\n",
    "a+b"
   ],
   "id": "4f2cb2213462f244",
   "outputs": [],
   "execution_count": null
  },
  {
   "metadata": {},
   "cell_type": "code",
   "source": [
    "rng=np.random.default_rng(1301)\n",
    "print(rng.normal(scale=5,size=50))\n",
    "rng2=np.random.default_rng(1301)\n",
    "print(rng2.normal(scale=5,size=50))"
   ],
   "id": "4e4eb4b3343d9d99",
   "outputs": [],
   "execution_count": null
  },
  {
   "metadata": {},
   "cell_type": "code",
   "source": "",
   "id": "9d6a7ffe1b4f0a1e",
   "outputs": [],
   "execution_count": null
  },
  {
   "metadata": {},
   "cell_type": "code",
   "source": "",
   "id": "8eafe894ad3f8449",
   "outputs": [],
   "execution_count": null
  },
  {
   "metadata": {},
   "cell_type": "code",
   "source": "'''matplotlib库'''",
   "id": "caff0e2517f6b141",
   "outputs": [],
   "execution_count": null
  },
  {
   "metadata": {},
   "cell_type": "code",
   "source": [
    "from matplotlib.pyplot import subplots\n",
    "fig,ax=subplots(figsize=(5,5))\n",
    "x=rng.standard_normal(100)\n",
    "y=rng.standard_normal(100)\n",
    "ax.plot(x,y)"
   ],
   "id": "17e92f804181d82d",
   "outputs": [],
   "execution_count": null
  },
  {
   "metadata": {},
   "cell_type": "code",
   "source": [
    "fig,ax=subplots(figsize=(8,8))\n",
    "ax.scatter(x,y,marker='o')\n",
    "ax.set_xlabel(\"this is x-axis\")\n",
    "ax.set_ylabel(\"this is y-axis\")\n",
    "ax.set_title(\"Plot of X vs Y\")"
   ],
   "id": "662968f679a888f9",
   "outputs": [],
   "execution_count": null
  },
  {
   "metadata": {},
   "cell_type": "code",
   "source": [
    "fig.set_size_inches(12,12)\n",
    "fig"
   ],
   "id": "ff032a09777ecb99",
   "outputs": [],
   "execution_count": null
  },
  {
   "metadata": {},
   "cell_type": "code",
   "source": [
    "fig,axes=subplots(nrows=3,\n",
    "                  ncols=5,\n",
    "                  figsize=(15,9))"
   ],
   "id": "f8f0dc47c647a400",
   "outputs": [],
   "execution_count": null
  },
  {
   "metadata": {},
   "cell_type": "code",
   "source": [
    "axes[0,1].plot(x,y,'o')\n",
    "axes[1,2].scatter(x,y,marker='+')\n",
    "fig"
   ],
   "id": "542793a91dba911b",
   "outputs": [],
   "execution_count": null
  },
  {
   "metadata": {},
   "cell_type": "code",
   "source": [
    "'''\n",
    "fig.savefig(\"Figure.png\",dpi=300)\n",
    "fig.savefig(\"Figuer.jpg\",dpi=400)\n",
    "'''"
   ],
   "id": "a222186ebb9792bf",
   "outputs": [],
   "execution_count": null
  },
  {
   "metadata": {},
   "cell_type": "code",
   "source": [
    "axes[0,2].set_xlim([-1,1])\n",
    "fig"
   ],
   "id": "86494a82beb440cc",
   "outputs": [],
   "execution_count": null
  },
  {
   "metadata": {},
   "cell_type": "code",
   "source": [
    "'''等高线图'''\n",
    "fig,ax=subplots(figsize=(8,8))\n",
    "x=np.linspace(-np.pi,np.pi,50)  #起始值 ，终止值，生成个数\n",
    "y=x\n",
    "f=np.multiply.outer(np.cos(y),1/(1+x**2))\n",
    "ax.contour(x,y,f);"
   ],
   "id": "1f8c6ca0a05c0188",
   "outputs": [],
   "execution_count": null
  },
  {
   "metadata": {},
   "cell_type": "code",
   "source": [
    "fig,ax=subplots(figsize=(8,8))\n",
    "ax.contour(x,y,f,levels=10)"
   ],
   "id": "340b7906132e13d",
   "outputs": [],
   "execution_count": null
  },
  {
   "metadata": {},
   "cell_type": "code",
   "source": [
    "'''热图'''\n",
    "fig, ax = subplots(figsize=(8, 8))\n",
    "ax.imshow(f)"
   ],
   "id": "27404d49ccb98275",
   "outputs": [],
   "execution_count": null
  },
  {
   "metadata": {},
   "cell_type": "code",
   "source": "",
   "id": "5c1a008cbe134041",
   "outputs": [],
   "execution_count": null
  },
  {
   "metadata": {},
   "cell_type": "code",
   "source": "",
   "id": "609cdaab7d2c5afb",
   "outputs": [],
   "execution_count": null
  },
  {
   "metadata": {},
   "cell_type": "code",
   "source": "'''数据索引'''",
   "id": "11f242871529a156",
   "outputs": [],
   "execution_count": null
  },
  {
   "metadata": {},
   "cell_type": "code",
   "source": [
    "seq1=np.linspace(0,10,11)\n",
    "seq1\n",
    "#生成以.分隔的序列  "
   ],
   "id": "e37da1d9b83779fc",
   "outputs": [],
   "execution_count": null
  },
  {
   "metadata": {},
   "cell_type": "code",
   "source": [
    "seq2=np.arange(0,11)\n",
    "seq2\n",
    "#\"hello world\"[3:6]\n",
    "#\"hello world\"[slice(3,6)]\n",
    "#切片法"
   ],
   "id": "cb686b647589071e",
   "outputs": [],
   "execution_count": null
  },
  {
   "metadata": {},
   "cell_type": "code",
   "source": [
    "A=np.array(np.arange(16).reshape((4,4)))\n",
    "A"
   ],
   "id": "c6244ddb12ea9fbe",
   "outputs": [],
   "execution_count": null
  },
  {
   "metadata": {},
   "cell_type": "code",
   "source": "A[1,1]",
   "id": "54cce293e191096a",
   "outputs": [],
   "execution_count": null
  },
  {
   "metadata": {},
   "cell_type": "code",
   "source": "A[[1,3]]",
   "id": "cf8c97a66ac93d27",
   "outputs": [],
   "execution_count": null
  },
  {
   "metadata": {},
   "cell_type": "code",
   "source": "A[:,[0,2]]",
   "id": "e61a4ae1b00ff99f",
   "outputs": [],
   "execution_count": null
  },
  {
   "metadata": {},
   "cell_type": "code",
   "source": "#索引序列",
   "id": "2f942685ae332ccb",
   "outputs": [],
   "execution_count": null
  },
  {
   "metadata": {},
   "cell_type": "code",
   "source": "A[[1,3],[0,2]]",
   "id": "c74f87fcdab5cd1c",
   "outputs": [],
   "execution_count": null
  },
  {
   "metadata": {},
   "cell_type": "code",
   "source": "np.array([A[1,0],A[3,2]])",
   "id": "403d27c91f8e6d4c",
   "outputs": [],
   "execution_count": null
  },
  {
   "metadata": {},
   "cell_type": "code",
   "source": "#列表",
   "id": "4fd8ec55ace04b2c",
   "outputs": [],
   "execution_count": null
  },
  {
   "metadata": {},
   "cell_type": "code",
   "source": "A[[1,3]][:,[0,2]]",
   "id": "4244a4472de1c018",
   "outputs": [],
   "execution_count": null
  },
  {
   "metadata": {},
   "cell_type": "code",
   "source": [
    "idx=np.ix_([1,3],[0,2,3])\n",
    "A[idx]"
   ],
   "id": "655b790f765df38",
   "outputs": [],
   "execution_count": null
  },
  {
   "metadata": {},
   "cell_type": "code",
   "source": "A[1:4:2,0:3:2]  #第三元素是步长",
   "id": "1f52bc132b5d2060",
   "outputs": [],
   "execution_count": null
  },
  {
   "metadata": {},
   "cell_type": "code",
   "source": "",
   "id": "ec0b48bd8a74e010",
   "outputs": [],
   "execution_count": null
  },
  {
   "metadata": {},
   "cell_type": "code",
   "source": "",
   "id": "df4d98613cb0b8d1",
   "outputs": [],
   "execution_count": null
  },
  {
   "metadata": {},
   "cell_type": "code",
   "source": "'''布尔索引'''",
   "id": "35c921db99f0821d",
   "outputs": [],
   "execution_count": null
  },
  {
   "metadata": {},
   "cell_type": "code",
   "source": [
    "keep_rows=np.zeros(A.shape[0],bool)\n",
    "keep_rows"
   ],
   "id": "2118044acb806e1b",
   "outputs": [],
   "execution_count": null
  },
  {
   "metadata": {},
   "cell_type": "code",
   "source": [
    "keep_rows[[1,3]]=True\n",
    "keep_rows"
   ],
   "id": "6b378c0b17545b3e",
   "outputs": [],
   "execution_count": null
  },
  {
   "metadata": {},
   "cell_type": "code",
   "source": "np.all(keep_rows==np.array([0,1,0,1]))       ",
   "id": "e58d17d14b81bae1",
   "outputs": [],
   "execution_count": null
  },
  {
   "metadata": {},
   "cell_type": "code",
   "source": "A[np.array([0,1,0,1])]",
   "id": "2daf513142d47a07",
   "outputs": [],
   "execution_count": null
  },
  {
   "metadata": {},
   "cell_type": "code",
   "source": "A[keep_rows]",
   "id": "8723cc127c9332f9",
   "outputs": [],
   "execution_count": null
  },
  {
   "metadata": {},
   "cell_type": "code",
   "source": [
    "keep_cols=np.zeros(A.shape[1],bool)\n",
    "keep_cols[[0,2,3]]=True\n",
    "idx_bool=np.ix_(keep_rows,keep_cols)\n",
    "A[idx_bool]"
   ],
   "id": "5145a329f8562b69",
   "outputs": [],
   "execution_count": null
  },
  {
   "metadata": {},
   "cell_type": "code",
   "source": [
    "idx_mix=np.ix_([1,3],keep_cols)\n",
    "A[idx_mix]"
   ],
   "id": "c6ec4638384f0efc",
   "outputs": [],
   "execution_count": null
  },
  {
   "metadata": {},
   "cell_type": "code",
   "source": "",
   "id": "ca962feb2b2c11c8",
   "outputs": [],
   "execution_count": null
  },
  {
   "metadata": {},
   "cell_type": "code",
   "source": "",
   "id": "8722deae59aee326",
   "outputs": [],
   "execution_count": null
  },
  {
   "metadata": {},
   "cell_type": "code",
   "source": "",
   "id": "466129d0bd1115f4",
   "outputs": [],
   "execution_count": null
  },
  {
   "metadata": {},
   "cell_type": "code",
   "source": "'''pandas库'''",
   "id": "e06d042fb9c3134d",
   "outputs": [],
   "execution_count": null
  },
  {
   "metadata": {},
   "cell_type": "code",
   "source": [
    "import pandas as pd\n",
    "Auto=pd.read_csv('Data/Auto.csv')\n",
    "Auto"
   ],
   "id": "a783165876a017d6",
   "outputs": [],
   "execution_count": null
  },
  {
   "metadata": {},
   "cell_type": "code",
   "source": [
    "Auto=pd.read_csv('Data/Auto.data',\n",
    "                 sep='\\\\s+')  #delim_whitespace=True\n",
    "Auto['horsepower']"
   ],
   "id": "f99a7d02fcc09e91",
   "outputs": [],
   "execution_count": null
  },
  {
   "metadata": {},
   "cell_type": "code",
   "source": "np.unique(Auto['horsepower'])",
   "id": "28d94aec7199fa85",
   "outputs": [],
   "execution_count": null
  },
  {
   "metadata": {},
   "cell_type": "code",
   "source": [
    "Auto=pd.read_csv('Data/Auto.data',\n",
    "                 na_values='?',  #跳过缺失值\n",
    "                 delim_whitespace=True)\n",
    "Auto['horsepower'].sum()"
   ],
   "id": "1ad805093fa1d147",
   "outputs": [],
   "execution_count": null
  },
  {
   "metadata": {},
   "cell_type": "code",
   "source": "Auto.shape",
   "id": "6c27fefab7500a29",
   "outputs": [],
   "execution_count": null
  },
  {
   "metadata": {},
   "cell_type": "code",
   "source": [
    "Auto_new=Auto.dropna()   #删除缺失行\n",
    "Auto_new.shape"
   ],
   "id": "b2ddc5abfb3842f7",
   "outputs": [],
   "execution_count": null
  },
  {
   "metadata": {},
   "cell_type": "code",
   "source": [
    "Auto=Auto_new\n",
    "Auto.columns"
   ],
   "id": "3da9b8457838240a",
   "outputs": [],
   "execution_count": null
  },
  {
   "metadata": {},
   "cell_type": "code",
   "source": "Auto[:3]",
   "id": "54bff35cc40eeef1",
   "outputs": [],
   "execution_count": null
  },
  {
   "metadata": {},
   "cell_type": "code",
   "source": [
    "idx_80=Auto['year']>80\n",
    "Auto[idx_80]"
   ],
   "id": "37ab81d8434fdd40",
   "outputs": [],
   "execution_count": null
  },
  {
   "metadata": {},
   "cell_type": "code",
   "source": "Auto[['mpg','horsepower']]",
   "id": "17cd0cce193e7981",
   "outputs": [],
   "execution_count": null
  },
  {
   "metadata": {},
   "cell_type": "code",
   "source": "Auto.index",
   "id": "8d3031a22b89e892",
   "outputs": [],
   "execution_count": null
  },
  {
   "metadata": {},
   "cell_type": "code",
   "source": [
    "Auto_re=Auto.set_index('name')\n",
    "Auto_re"
   ],
   "id": "2bb9d90be72aa78a",
   "outputs": [],
   "execution_count": null
  },
  {
   "metadata": {},
   "cell_type": "code",
   "source": "Auto_re.columns",
   "id": "98991020209f4d18",
   "outputs": [],
   "execution_count": null
  },
  {
   "metadata": {},
   "cell_type": "code",
   "source": [
    "rows=['amc rebel sst','ford torino']\n",
    "Auto_re.loc[rows]   #用设置新索引访问,loc方法为访问新索引"
   ],
   "id": "a432075ac066ba66",
   "outputs": [],
   "execution_count": null
  },
  {
   "metadata": {},
   "cell_type": "code",
   "source": "Auto_re.iloc[[3,4]]  #用新索引访问",
   "id": "40d3b60375742f7",
   "outputs": [],
   "execution_count": null
  },
  {
   "metadata": {},
   "cell_type": "code",
   "source": "Auto_re.iloc[:,[0,2,3]]",
   "id": "9b6c8cc1cd6e215b",
   "outputs": [],
   "execution_count": null
  },
  {
   "metadata": {},
   "cell_type": "code",
   "source": "Auto_re.iloc[[3,4],[0,2,3]]",
   "id": "1e45cc05d9bf8f42",
   "outputs": [],
   "execution_count": null
  },
  {
   "metadata": {},
   "cell_type": "code",
   "source": "Auto_re.loc['ford galaxie 500',['mpg','origin']]",
   "id": "96382c31603a3809",
   "outputs": [],
   "execution_count": null
  },
  {
   "metadata": {},
   "cell_type": "code",
   "source": [
    "idx_80=Auto_re['year']>80\n",
    "Auto_re.loc[idx_80,['weight','origin']]"
   ],
   "id": "6272d408540edc27",
   "outputs": [],
   "execution_count": null
  },
  {
   "metadata": {},
   "cell_type": "code",
   "source": "Auto_re.loc[lambda df:df['year']>80,['weight','origin']]      #lambda为隐藏函数",
   "id": "21753454d2249ef7",
   "outputs": [],
   "execution_count": null
  },
  {
   "metadata": {},
   "cell_type": "code",
   "source": [
    "Auto_re.loc[lambda df:(df['year']>=80) & (df['mpg']>30),\n",
    "            ['weight','origin']]"
   ],
   "id": "90e993c9cb02a27",
   "outputs": [],
   "execution_count": null
  },
  {
   "metadata": {},
   "cell_type": "code",
   "source": [
    "Auto_re.loc[lambda df: (df['displacement'] < 300)\n",
    "                       & (df.index.str.contains('ford')\n",
    "                       | df.index.str.contains('datsun')),\n",
    "            ['weight', 'origin']\n",
    "           ]"
   ],
   "id": "19094241045a80a",
   "outputs": [],
   "execution_count": null
  },
  {
   "metadata": {},
   "cell_type": "code",
   "source": [
    "\n",
    "\n",
    "\n"
   ],
   "id": "a5165f9df17770a0",
   "outputs": [],
   "execution_count": null
  },
  {
   "metadata": {},
   "cell_type": "code",
   "source": "'''For循环'''",
   "id": "406c36674a3c1df5",
   "outputs": [],
   "execution_count": null
  },
  {
   "metadata": {},
   "cell_type": "code",
   "source": [
    "total=0\n",
    "for value in [3,2,19]:\n",
    "    total+=value\n",
    "print('Total is:{0}'.format(total))"
   ],
   "id": "90c1258c064c91fd",
   "outputs": [],
   "execution_count": null
  },
  {
   "metadata": {},
   "cell_type": "code",
   "source": [
    "total = 0\n",
    "for value, weight in zip([2,3,19],\n",
    "                         [0.2,0.3,0.5]):\n",
    "    total += weight * value\n",
    "print('Weighted average is: {0}'.format(total))"
   ],
   "id": "1c81ed29946135df",
   "outputs": [],
   "execution_count": null
  },
  {
   "metadata": {},
   "cell_type": "code",
   "source": "'''字符串格式'''",
   "id": "cf1118414f797ac5",
   "outputs": [],
   "execution_count": null
  },
  {
   "metadata": {},
   "cell_type": "code",
   "source": [
    "rng=np.random.default_rng(1)\n",
    "A=rng.standard_normal((127,5))\n",
    "M=rng.choice([0,np.nan],p=[0.8,0.2],size=A.shape)  #0.2的概率为缺失值\n",
    "A+=M\n",
    "D=pd.DataFrame(A,columns=['food', \n",
    "                          'bar',              #创建数据框\n",
    "                          'pickle',\n",
    "                          'snack',\n",
    "                          'popcorn'])\n",
    "D[:3]"
   ],
   "id": "fa088be91e66cab9",
   "outputs": [],
   "execution_count": null
  },
  {
   "metadata": {},
   "cell_type": "code",
   "source": [
    "for col in D.columns:\n",
    "    template='Column''{0}''has {1:.2%} missing values'\n",
    "    print(template.format(col,np.isnan(D[col]).mean()))"
   ],
   "id": "98c3e1ec5c0b48f8",
   "outputs": [],
   "execution_count": null
  },
  {
   "metadata": {},
   "cell_type": "code",
   "source": [
    "\n",
    "\n",
    "\n"
   ],
   "id": "cabce71e978405a",
   "outputs": [],
   "execution_count": null
  },
  {
   "metadata": {},
   "cell_type": "code",
   "source": "'''图形与数字摘要'''",
   "id": "6c3dc8492658cccc",
   "outputs": [],
   "execution_count": null
  },
  {
   "metadata": {},
   "cell_type": "code",
   "source": [
    "fig,ax=subplots(figsize=(8,8))\n",
    "ax.plot(Auto['horsepower'],Auto['mpg'],'o')"
   ],
   "id": "486eb9f18ab48931",
   "outputs": [],
   "execution_count": null
  },
  {
   "metadata": {},
   "cell_type": "code",
   "source": [
    "ax=Auto.plot.scatter('horsepower','mpg')\n",
    "ax.set_title('Horsepower VS MPG')"
   ],
   "id": "a02824bcb5be9a72",
   "outputs": [],
   "execution_count": null
  },
  {
   "metadata": {},
   "cell_type": "code",
   "source": [
    "fig,axes=subplots(ncols=3,figsize=(15,5))\n",
    "Auto.plot.scatter('horsepower','mpg',ax=axes[1])"
   ],
   "id": "80c38acbe0b8193",
   "outputs": [],
   "execution_count": null
  },
  {
   "metadata": {},
   "cell_type": "code",
   "source": [
    "Auto.cylinders=pd.Series(Auto.cylinders,dtype='category')  #定性数据\n",
    "Auto.cylinders.dtype"
   ],
   "id": "e860eb7563deff15",
   "outputs": [],
   "execution_count": null
  },
  {
   "metadata": {},
   "cell_type": "code",
   "source": [
    "fig,ax=subplots(figsize=(8,8))\n",
    "Auto.boxplot('mpg',by='cylinders',ax=ax)"
   ],
   "id": "bd0001cf64537fdf",
   "outputs": [],
   "execution_count": null
  },
  {
   "metadata": {},
   "cell_type": "code",
   "source": [
    "fig,ax=subplots(figsize=(8,8))\n",
    "Auto.hist('mpg',ax=ax)"
   ],
   "id": "2cc6f2f78e14e8f",
   "outputs": [],
   "execution_count": null
  },
  {
   "metadata": {},
   "cell_type": "code",
   "source": [
    "fig,ax=subplots(figsize=(8,8))\n",
    "Auto.hist('mpg',color='red',bins=12,ax=ax)"
   ],
   "id": "ca0583ec55f81f9e",
   "outputs": [],
   "execution_count": null
  },
  {
   "metadata": {},
   "cell_type": "code",
   "source": "pd.plotting.scatter_matrix(Auto)",
   "id": "d24ca7cc39b88a08",
   "outputs": [],
   "execution_count": null
  },
  {
   "metadata": {},
   "cell_type": "code",
   "source": [
    "pd.plotting.scatter_matrix(Auto[['mpg',\n",
    "                                 'displacement',\n",
    "                                 'weight']]);"
   ],
   "id": "1af0504be968471",
   "outputs": [],
   "execution_count": null
  },
  {
   "metadata": {},
   "cell_type": "code",
   "source": "Auto[['mpg','weight']].describe()",
   "id": "4267c17188130e94",
   "outputs": [],
   "execution_count": null
  },
  {
   "metadata": {},
   "cell_type": "code",
   "source": [
    "Auto['cylinders'].describe()\n",
    "Auto['mpg'].describe()"
   ],
   "id": "8bd7e734f1f51f7c",
   "outputs": [],
   "execution_count": null
  },
  {
   "metadata": {},
   "cell_type": "code",
   "source": "",
   "id": "633f1ab79b44f738",
   "outputs": [],
   "execution_count": null
  }
 ],
 "metadata": {
  "kernelspec": {
   "display_name": "Python 3",
   "language": "python",
   "name": "python3"
  },
  "language_info": {
   "codemirror_mode": {
    "name": "ipython",
    "version": 2
   },
   "file_extension": ".py",
   "mimetype": "text/x-python",
   "name": "python",
   "nbconvert_exporter": "python",
   "pygments_lexer": "ipython2",
   "version": "2.7.6"
  }
 },
 "nbformat": 4,
 "nbformat_minor": 5
}
